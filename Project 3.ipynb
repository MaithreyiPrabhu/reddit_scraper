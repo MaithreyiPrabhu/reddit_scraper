{
 "cells": [
  {
   "cell_type": "code",
   "execution_count": 1,
   "metadata": {},
   "outputs": [],
   "source": [
    "# TODO: grid search\n",
    "# TODO: NB"
   ]
  },
  {
   "cell_type": "code",
   "execution_count": 2,
   "metadata": {},
   "outputs": [],
   "source": [
    "import pandas as pd\n",
    "import numpy as np\n",
    "from sklearn.model_selection import train_test_split\n",
    "from sklearn.feature_extraction.text import CountVectorizer\n",
    "from sklearn.feature_extraction.text import TfidfVectorizer\n",
    "from sklearn.ensemble import RandomForestClassifier\n",
    "from sklearn.linear_model import LogisticRegression\n",
    "import matplotlib.pyplot as plt\n",
    "import seaborn as sns\n",
    "\n",
    "%matplotlib inline"
   ]
  },
  {
   "cell_type": "markdown",
   "metadata": {},
   "source": [
    "## Load Data"
   ]
  },
  {
   "cell_type": "code",
   "execution_count": 3,
   "metadata": {},
   "outputs": [],
   "source": [
    "s_df = pd.read_csv('./statistics_posts.csv')\n",
    "ds_df = pd.read_csv('./datascience_posts.csv')"
   ]
  },
  {
   "cell_type": "code",
   "execution_count": 4,
   "metadata": {},
   "outputs": [
    {
     "data": {
      "text/html": [
       "<div>\n",
       "<style scoped>\n",
       "    .dataframe tbody tr th:only-of-type {\n",
       "        vertical-align: middle;\n",
       "    }\n",
       "\n",
       "    .dataframe tbody tr th {\n",
       "        vertical-align: top;\n",
       "    }\n",
       "\n",
       "    .dataframe thead th {\n",
       "        text-align: right;\n",
       "    }\n",
       "</style>\n",
       "<table border=\"1\" class=\"dataframe\">\n",
       "  <thead>\n",
       "    <tr style=\"text-align: right;\">\n",
       "      <th></th>\n",
       "      <th>selftext</th>\n",
       "      <th>title</th>\n",
       "      <th>id</th>\n",
       "      <th>sorted_by</th>\n",
       "      <th>num_comments</th>\n",
       "      <th>score</th>\n",
       "      <th>ups</th>\n",
       "      <th>downs</th>\n",
       "    </tr>\n",
       "  </thead>\n",
       "  <tbody>\n",
       "    <tr>\n",
       "      <th>0</th>\n",
       "      <td>NaN</td>\n",
       "      <td>The trump problem</td>\n",
       "      <td>7h23he</td>\n",
       "      <td>top</td>\n",
       "      <td>34</td>\n",
       "      <td>471</td>\n",
       "      <td>471</td>\n",
       "      <td>0</td>\n",
       "    </tr>\n",
       "    <tr>\n",
       "      <th>1</th>\n",
       "      <td>NaN</td>\n",
       "      <td>Bing results. Where stats and fashion meet.</td>\n",
       "      <td>7dopht</td>\n",
       "      <td>top</td>\n",
       "      <td>4</td>\n",
       "      <td>303</td>\n",
       "      <td>303</td>\n",
       "      <td>0</td>\n",
       "    </tr>\n",
       "    <tr>\n",
       "      <th>2</th>\n",
       "      <td>NaN</td>\n",
       "      <td>RIP Hans Rosling - a tribute to the legend</td>\n",
       "      <td>5smcqw</td>\n",
       "      <td>top</td>\n",
       "      <td>15</td>\n",
       "      <td>292</td>\n",
       "      <td>292</td>\n",
       "      <td>0</td>\n",
       "    </tr>\n",
       "    <tr>\n",
       "      <th>3</th>\n",
       "      <td>NaN</td>\n",
       "      <td>The scariest Halloween monster of them all!</td>\n",
       "      <td>7aqv39</td>\n",
       "      <td>top</td>\n",
       "      <td>29</td>\n",
       "      <td>276</td>\n",
       "      <td>276</td>\n",
       "      <td>0</td>\n",
       "    </tr>\n",
       "    <tr>\n",
       "      <th>4</th>\n",
       "      <td>NaN</td>\n",
       "      <td>Statisticians Found One Thing They Can Agree O...</td>\n",
       "      <td>49dc8t</td>\n",
       "      <td>top</td>\n",
       "      <td>87</td>\n",
       "      <td>259</td>\n",
       "      <td>259</td>\n",
       "      <td>0</td>\n",
       "    </tr>\n",
       "  </tbody>\n",
       "</table>\n",
       "</div>"
      ],
      "text/plain": [
       "  selftext                                              title      id  \\\n",
       "0      NaN                                  The trump problem  7h23he   \n",
       "1      NaN        Bing results. Where stats and fashion meet.  7dopht   \n",
       "2      NaN         RIP Hans Rosling - a tribute to the legend  5smcqw   \n",
       "3      NaN        The scariest Halloween monster of them all!  7aqv39   \n",
       "4      NaN  Statisticians Found One Thing They Can Agree O...  49dc8t   \n",
       "\n",
       "  sorted_by  num_comments  score  ups  downs  \n",
       "0       top            34    471  471      0  \n",
       "1       top             4    303  303      0  \n",
       "2       top            15    292  292      0  \n",
       "3       top            29    276  276      0  \n",
       "4       top            87    259  259      0  "
      ]
     },
     "execution_count": 4,
     "metadata": {},
     "output_type": "execute_result"
    }
   ],
   "source": [
    "s_df.head()"
   ]
  },
  {
   "cell_type": "code",
   "execution_count": 5,
   "metadata": {},
   "outputs": [
    {
     "data": {
      "text/html": [
       "<div>\n",
       "<style scoped>\n",
       "    .dataframe tbody tr th:only-of-type {\n",
       "        vertical-align: middle;\n",
       "    }\n",
       "\n",
       "    .dataframe tbody tr th {\n",
       "        vertical-align: top;\n",
       "    }\n",
       "\n",
       "    .dataframe thead th {\n",
       "        text-align: right;\n",
       "    }\n",
       "</style>\n",
       "<table border=\"1\" class=\"dataframe\">\n",
       "  <thead>\n",
       "    <tr style=\"text-align: right;\">\n",
       "      <th></th>\n",
       "      <th>selftext</th>\n",
       "      <th>title</th>\n",
       "      <th>id</th>\n",
       "      <th>sorted_by</th>\n",
       "      <th>num_comments</th>\n",
       "      <th>score</th>\n",
       "      <th>ups</th>\n",
       "      <th>downs</th>\n",
       "    </tr>\n",
       "  </thead>\n",
       "  <tbody>\n",
       "    <tr>\n",
       "      <th>0</th>\n",
       "      <td>TL;DR: learned a buncha shit in 20 months with...</td>\n",
       "      <td>How I went from no coding or machine learning ...</td>\n",
       "      <td>713hnw</td>\n",
       "      <td>top</td>\n",
       "      <td>110.0</td>\n",
       "      <td>627.0</td>\n",
       "      <td>627.0</td>\n",
       "      <td>0.0</td>\n",
       "    </tr>\n",
       "    <tr>\n",
       "      <th>1</th>\n",
       "      <td>NaN</td>\n",
       "      <td>Data science recruiters</td>\n",
       "      <td>8nl2ps</td>\n",
       "      <td>top</td>\n",
       "      <td>49.0</td>\n",
       "      <td>616.0</td>\n",
       "      <td>616.0</td>\n",
       "      <td>0.0</td>\n",
       "    </tr>\n",
       "    <tr>\n",
       "      <th>2</th>\n",
       "      <td>NaN</td>\n",
       "      <td>Data Scientist: \\'dādə ˈsīən(t)əst\\ (n.)</td>\n",
       "      <td>8hxnk9</td>\n",
       "      <td>top</td>\n",
       "      <td>46.0</td>\n",
       "      <td>583.0</td>\n",
       "      <td>583.0</td>\n",
       "      <td>0.0</td>\n",
       "    </tr>\n",
       "    <tr>\n",
       "      <th>3</th>\n",
       "      <td>NaN</td>\n",
       "      <td>newbies be like</td>\n",
       "      <td>80rhvh</td>\n",
       "      <td>top</td>\n",
       "      <td>145.0</td>\n",
       "      <td>509.0</td>\n",
       "      <td>509.0</td>\n",
       "      <td>0.0</td>\n",
       "    </tr>\n",
       "    <tr>\n",
       "      <th>4</th>\n",
       "      <td>NaN</td>\n",
       "      <td>Google Introduces New Search Engine for Findin...</td>\n",
       "      <td>9dcltp</td>\n",
       "      <td>top</td>\n",
       "      <td>16.0</td>\n",
       "      <td>470.0</td>\n",
       "      <td>470.0</td>\n",
       "      <td>0.0</td>\n",
       "    </tr>\n",
       "  </tbody>\n",
       "</table>\n",
       "</div>"
      ],
      "text/plain": [
       "                                            selftext  \\\n",
       "0  TL;DR: learned a buncha shit in 20 months with...   \n",
       "1                                                NaN   \n",
       "2                                                NaN   \n",
       "3                                                NaN   \n",
       "4                                                NaN   \n",
       "\n",
       "                                               title      id sorted_by  \\\n",
       "0  How I went from no coding or machine learning ...  713hnw       top   \n",
       "1                            Data science recruiters  8nl2ps       top   \n",
       "2           Data Scientist: \\'dādə ˈsīən(t)əst\\ (n.)  8hxnk9       top   \n",
       "3                                    newbies be like  80rhvh       top   \n",
       "4  Google Introduces New Search Engine for Findin...  9dcltp       top   \n",
       "\n",
       "   num_comments  score    ups  downs  \n",
       "0         110.0  627.0  627.0    0.0  \n",
       "1          49.0  616.0  616.0    0.0  \n",
       "2          46.0  583.0  583.0    0.0  \n",
       "3         145.0  509.0  509.0    0.0  \n",
       "4          16.0  470.0  470.0    0.0  "
      ]
     },
     "execution_count": 5,
     "metadata": {},
     "output_type": "execute_result"
    }
   ],
   "source": [
    "ds_df.head()"
   ]
  },
  {
   "cell_type": "markdown",
   "metadata": {},
   "source": [
    "## EDA"
   ]
  },
  {
   "cell_type": "code",
   "execution_count": 6,
   "metadata": {},
   "outputs": [
    {
     "name": "stdout",
     "output_type": "stream",
     "text": [
      "<class 'pandas.core.frame.DataFrame'>\n",
      "RangeIndex: 997 entries, 0 to 996\n",
      "Data columns (total 8 columns):\n",
      "selftext        343 non-null object\n",
      "title           997 non-null object\n",
      "id              997 non-null object\n",
      "sorted_by       997 non-null object\n",
      "num_comments    997 non-null int64\n",
      "score           997 non-null int64\n",
      "ups             997 non-null int64\n",
      "downs           997 non-null int64\n",
      "dtypes: int64(4), object(4)\n",
      "memory usage: 62.4+ KB\n"
     ]
    }
   ],
   "source": [
    "s_df.info()"
   ]
  },
  {
   "cell_type": "code",
   "execution_count": 7,
   "metadata": {},
   "outputs": [
    {
     "name": "stdout",
     "output_type": "stream",
     "text": [
      "<class 'pandas.core.frame.DataFrame'>\n",
      "RangeIndex: 997 entries, 0 to 996\n",
      "Data columns (total 8 columns):\n",
      "selftext        473 non-null object\n",
      "title           997 non-null object\n",
      "id              997 non-null object\n",
      "sorted_by       997 non-null object\n",
      "num_comments    997 non-null float64\n",
      "score           997 non-null float64\n",
      "ups             997 non-null float64\n",
      "downs           997 non-null float64\n",
      "dtypes: float64(4), object(4)\n",
      "memory usage: 62.4+ KB\n"
     ]
    }
   ],
   "source": [
    "ds_df.info()"
   ]
  },
  {
   "cell_type": "code",
   "execution_count": 8,
   "metadata": {},
   "outputs": [],
   "source": [
    "s_df['comments_score'] = s_df['num_comments'] * s_df['score']\n",
    "ds_df['comments_score'] = ds_df['num_comments'] * ds_df['score']"
   ]
  },
  {
   "cell_type": "code",
   "execution_count": 9,
   "metadata": {},
   "outputs": [
    {
     "data": {
      "text/html": [
       "<div>\n",
       "<style scoped>\n",
       "    .dataframe tbody tr th:only-of-type {\n",
       "        vertical-align: middle;\n",
       "    }\n",
       "\n",
       "    .dataframe tbody tr th {\n",
       "        vertical-align: top;\n",
       "    }\n",
       "\n",
       "    .dataframe thead th {\n",
       "        text-align: right;\n",
       "    }\n",
       "</style>\n",
       "<table border=\"1\" class=\"dataframe\">\n",
       "  <thead>\n",
       "    <tr style=\"text-align: right;\">\n",
       "      <th></th>\n",
       "      <th>num_comments</th>\n",
       "      <th>score</th>\n",
       "      <th>ups</th>\n",
       "      <th>downs</th>\n",
       "      <th>comments_score</th>\n",
       "    </tr>\n",
       "  </thead>\n",
       "  <tbody>\n",
       "    <tr>\n",
       "      <th>count</th>\n",
       "      <td>997.000000</td>\n",
       "      <td>997.000000</td>\n",
       "      <td>997.000000</td>\n",
       "      <td>997.0</td>\n",
       "      <td>997.000000</td>\n",
       "    </tr>\n",
       "    <tr>\n",
       "      <th>mean</th>\n",
       "      <td>19.162487</td>\n",
       "      <td>54.568706</td>\n",
       "      <td>54.568706</td>\n",
       "      <td>0.0</td>\n",
       "      <td>1191.278837</td>\n",
       "    </tr>\n",
       "    <tr>\n",
       "      <th>std</th>\n",
       "      <td>22.167935</td>\n",
       "      <td>37.594894</td>\n",
       "      <td>37.594894</td>\n",
       "      <td>0.0</td>\n",
       "      <td>2175.510716</td>\n",
       "    </tr>\n",
       "    <tr>\n",
       "      <th>min</th>\n",
       "      <td>0.000000</td>\n",
       "      <td>26.000000</td>\n",
       "      <td>26.000000</td>\n",
       "      <td>0.0</td>\n",
       "      <td>0.000000</td>\n",
       "    </tr>\n",
       "    <tr>\n",
       "      <th>25%</th>\n",
       "      <td>5.000000</td>\n",
       "      <td>33.000000</td>\n",
       "      <td>33.000000</td>\n",
       "      <td>0.0</td>\n",
       "      <td>210.000000</td>\n",
       "    </tr>\n",
       "    <tr>\n",
       "      <th>50%</th>\n",
       "      <td>12.000000</td>\n",
       "      <td>43.000000</td>\n",
       "      <td>43.000000</td>\n",
       "      <td>0.0</td>\n",
       "      <td>580.000000</td>\n",
       "    </tr>\n",
       "    <tr>\n",
       "      <th>75%</th>\n",
       "      <td>26.000000</td>\n",
       "      <td>62.000000</td>\n",
       "      <td>62.000000</td>\n",
       "      <td>0.0</td>\n",
       "      <td>1323.000000</td>\n",
       "    </tr>\n",
       "    <tr>\n",
       "      <th>max</th>\n",
       "      <td>230.000000</td>\n",
       "      <td>471.000000</td>\n",
       "      <td>471.000000</td>\n",
       "      <td>0.0</td>\n",
       "      <td>26226.000000</td>\n",
       "    </tr>\n",
       "  </tbody>\n",
       "</table>\n",
       "</div>"
      ],
      "text/plain": [
       "       num_comments       score         ups  downs  comments_score\n",
       "count    997.000000  997.000000  997.000000  997.0      997.000000\n",
       "mean      19.162487   54.568706   54.568706    0.0     1191.278837\n",
       "std       22.167935   37.594894   37.594894    0.0     2175.510716\n",
       "min        0.000000   26.000000   26.000000    0.0        0.000000\n",
       "25%        5.000000   33.000000   33.000000    0.0      210.000000\n",
       "50%       12.000000   43.000000   43.000000    0.0      580.000000\n",
       "75%       26.000000   62.000000   62.000000    0.0     1323.000000\n",
       "max      230.000000  471.000000  471.000000    0.0    26226.000000"
      ]
     },
     "execution_count": 9,
     "metadata": {},
     "output_type": "execute_result"
    }
   ],
   "source": [
    "s_df.describe()"
   ]
  },
  {
   "cell_type": "code",
   "execution_count": 10,
   "metadata": {},
   "outputs": [
    {
     "data": {
      "text/html": [
       "<div>\n",
       "<style scoped>\n",
       "    .dataframe tbody tr th:only-of-type {\n",
       "        vertical-align: middle;\n",
       "    }\n",
       "\n",
       "    .dataframe tbody tr th {\n",
       "        vertical-align: top;\n",
       "    }\n",
       "\n",
       "    .dataframe thead th {\n",
       "        text-align: right;\n",
       "    }\n",
       "</style>\n",
       "<table border=\"1\" class=\"dataframe\">\n",
       "  <thead>\n",
       "    <tr style=\"text-align: right;\">\n",
       "      <th></th>\n",
       "      <th>num_comments</th>\n",
       "      <th>score</th>\n",
       "      <th>ups</th>\n",
       "      <th>downs</th>\n",
       "      <th>comments_score</th>\n",
       "    </tr>\n",
       "  </thead>\n",
       "  <tbody>\n",
       "    <tr>\n",
       "      <th>count</th>\n",
       "      <td>997.000000</td>\n",
       "      <td>997.000000</td>\n",
       "      <td>997.000000</td>\n",
       "      <td>997.0</td>\n",
       "      <td>997.000000</td>\n",
       "    </tr>\n",
       "    <tr>\n",
       "      <th>mean</th>\n",
       "      <td>22.398195</td>\n",
       "      <td>75.761284</td>\n",
       "      <td>75.761284</td>\n",
       "      <td>0.0</td>\n",
       "      <td>2147.405216</td>\n",
       "    </tr>\n",
       "    <tr>\n",
       "      <th>std</th>\n",
       "      <td>25.707087</td>\n",
       "      <td>65.695073</td>\n",
       "      <td>65.695073</td>\n",
       "      <td>0.0</td>\n",
       "      <td>4914.626615</td>\n",
       "    </tr>\n",
       "    <tr>\n",
       "      <th>min</th>\n",
       "      <td>0.000000</td>\n",
       "      <td>29.000000</td>\n",
       "      <td>29.000000</td>\n",
       "      <td>0.0</td>\n",
       "      <td>0.000000</td>\n",
       "    </tr>\n",
       "    <tr>\n",
       "      <th>25%</th>\n",
       "      <td>6.000000</td>\n",
       "      <td>40.000000</td>\n",
       "      <td>40.000000</td>\n",
       "      <td>0.0</td>\n",
       "      <td>315.000000</td>\n",
       "    </tr>\n",
       "    <tr>\n",
       "      <th>50%</th>\n",
       "      <td>14.000000</td>\n",
       "      <td>54.000000</td>\n",
       "      <td>54.000000</td>\n",
       "      <td>0.0</td>\n",
       "      <td>819.000000</td>\n",
       "    </tr>\n",
       "    <tr>\n",
       "      <th>75%</th>\n",
       "      <td>29.000000</td>\n",
       "      <td>84.000000</td>\n",
       "      <td>84.000000</td>\n",
       "      <td>0.0</td>\n",
       "      <td>1995.000000</td>\n",
       "    </tr>\n",
       "    <tr>\n",
       "      <th>max</th>\n",
       "      <td>212.000000</td>\n",
       "      <td>627.000000</td>\n",
       "      <td>627.000000</td>\n",
       "      <td>0.0</td>\n",
       "      <td>73805.000000</td>\n",
       "    </tr>\n",
       "  </tbody>\n",
       "</table>\n",
       "</div>"
      ],
      "text/plain": [
       "       num_comments       score         ups  downs  comments_score\n",
       "count    997.000000  997.000000  997.000000  997.0      997.000000\n",
       "mean      22.398195   75.761284   75.761284    0.0     2147.405216\n",
       "std       25.707087   65.695073   65.695073    0.0     4914.626615\n",
       "min        0.000000   29.000000   29.000000    0.0        0.000000\n",
       "25%        6.000000   40.000000   40.000000    0.0      315.000000\n",
       "50%       14.000000   54.000000   54.000000    0.0      819.000000\n",
       "75%       29.000000   84.000000   84.000000    0.0     1995.000000\n",
       "max      212.000000  627.000000  627.000000    0.0    73805.000000"
      ]
     },
     "execution_count": 10,
     "metadata": {},
     "output_type": "execute_result"
    }
   ],
   "source": [
    "ds_df.describe()"
   ]
  },
  {
   "cell_type": "code",
   "execution_count": 11,
   "metadata": {},
   "outputs": [],
   "source": [
    "s_df.drop('downs', axis=1, inplace=True)"
   ]
  },
  {
   "cell_type": "code",
   "execution_count": 12,
   "metadata": {},
   "outputs": [
    {
     "data": {
      "text/html": [
       "<div>\n",
       "<style scoped>\n",
       "    .dataframe tbody tr th:only-of-type {\n",
       "        vertical-align: middle;\n",
       "    }\n",
       "\n",
       "    .dataframe tbody tr th {\n",
       "        vertical-align: top;\n",
       "    }\n",
       "\n",
       "    .dataframe thead th {\n",
       "        text-align: right;\n",
       "    }\n",
       "</style>\n",
       "<table border=\"1\" class=\"dataframe\">\n",
       "  <thead>\n",
       "    <tr style=\"text-align: right;\">\n",
       "      <th></th>\n",
       "      <th>selftext</th>\n",
       "      <th>title</th>\n",
       "      <th>id</th>\n",
       "      <th>sorted_by</th>\n",
       "      <th>num_comments</th>\n",
       "      <th>score</th>\n",
       "      <th>ups</th>\n",
       "      <th>comments_score</th>\n",
       "    </tr>\n",
       "  </thead>\n",
       "  <tbody>\n",
       "    <tr>\n",
       "      <th>0</th>\n",
       "      <td>NaN</td>\n",
       "      <td>The trump problem</td>\n",
       "      <td>7h23he</td>\n",
       "      <td>top</td>\n",
       "      <td>34</td>\n",
       "      <td>471</td>\n",
       "      <td>471</td>\n",
       "      <td>16014</td>\n",
       "    </tr>\n",
       "    <tr>\n",
       "      <th>1</th>\n",
       "      <td>NaN</td>\n",
       "      <td>Bing results. Where stats and fashion meet.</td>\n",
       "      <td>7dopht</td>\n",
       "      <td>top</td>\n",
       "      <td>4</td>\n",
       "      <td>303</td>\n",
       "      <td>303</td>\n",
       "      <td>1212</td>\n",
       "    </tr>\n",
       "    <tr>\n",
       "      <th>2</th>\n",
       "      <td>NaN</td>\n",
       "      <td>RIP Hans Rosling - a tribute to the legend</td>\n",
       "      <td>5smcqw</td>\n",
       "      <td>top</td>\n",
       "      <td>15</td>\n",
       "      <td>292</td>\n",
       "      <td>292</td>\n",
       "      <td>4380</td>\n",
       "    </tr>\n",
       "    <tr>\n",
       "      <th>3</th>\n",
       "      <td>NaN</td>\n",
       "      <td>The scariest Halloween monster of them all!</td>\n",
       "      <td>7aqv39</td>\n",
       "      <td>top</td>\n",
       "      <td>29</td>\n",
       "      <td>276</td>\n",
       "      <td>276</td>\n",
       "      <td>8004</td>\n",
       "    </tr>\n",
       "    <tr>\n",
       "      <th>4</th>\n",
       "      <td>NaN</td>\n",
       "      <td>Statisticians Found One Thing They Can Agree O...</td>\n",
       "      <td>49dc8t</td>\n",
       "      <td>top</td>\n",
       "      <td>87</td>\n",
       "      <td>259</td>\n",
       "      <td>259</td>\n",
       "      <td>22533</td>\n",
       "    </tr>\n",
       "  </tbody>\n",
       "</table>\n",
       "</div>"
      ],
      "text/plain": [
       "  selftext                                              title      id  \\\n",
       "0      NaN                                  The trump problem  7h23he   \n",
       "1      NaN        Bing results. Where stats and fashion meet.  7dopht   \n",
       "2      NaN         RIP Hans Rosling - a tribute to the legend  5smcqw   \n",
       "3      NaN        The scariest Halloween monster of them all!  7aqv39   \n",
       "4      NaN  Statisticians Found One Thing They Can Agree O...  49dc8t   \n",
       "\n",
       "  sorted_by  num_comments  score  ups  comments_score  \n",
       "0       top            34    471  471           16014  \n",
       "1       top             4    303  303            1212  \n",
       "2       top            15    292  292            4380  \n",
       "3       top            29    276  276            8004  \n",
       "4       top            87    259  259           22533  "
      ]
     },
     "execution_count": 12,
     "metadata": {},
     "output_type": "execute_result"
    }
   ],
   "source": [
    "s_df.head()"
   ]
  },
  {
   "cell_type": "code",
   "execution_count": 13,
   "metadata": {},
   "outputs": [],
   "source": [
    "ds_df.drop('downs', axis=1, inplace=True)"
   ]
  },
  {
   "cell_type": "code",
   "execution_count": 14,
   "metadata": {},
   "outputs": [
    {
     "data": {
      "text/html": [
       "<div>\n",
       "<style scoped>\n",
       "    .dataframe tbody tr th:only-of-type {\n",
       "        vertical-align: middle;\n",
       "    }\n",
       "\n",
       "    .dataframe tbody tr th {\n",
       "        vertical-align: top;\n",
       "    }\n",
       "\n",
       "    .dataframe thead th {\n",
       "        text-align: right;\n",
       "    }\n",
       "</style>\n",
       "<table border=\"1\" class=\"dataframe\">\n",
       "  <thead>\n",
       "    <tr style=\"text-align: right;\">\n",
       "      <th></th>\n",
       "      <th>selftext</th>\n",
       "      <th>title</th>\n",
       "      <th>id</th>\n",
       "      <th>sorted_by</th>\n",
       "      <th>num_comments</th>\n",
       "      <th>score</th>\n",
       "      <th>ups</th>\n",
       "      <th>comments_score</th>\n",
       "    </tr>\n",
       "  </thead>\n",
       "  <tbody>\n",
       "    <tr>\n",
       "      <th>0</th>\n",
       "      <td>TL;DR: learned a buncha shit in 20 months with...</td>\n",
       "      <td>How I went from no coding or machine learning ...</td>\n",
       "      <td>713hnw</td>\n",
       "      <td>top</td>\n",
       "      <td>110.0</td>\n",
       "      <td>627.0</td>\n",
       "      <td>627.0</td>\n",
       "      <td>68970.0</td>\n",
       "    </tr>\n",
       "    <tr>\n",
       "      <th>1</th>\n",
       "      <td>NaN</td>\n",
       "      <td>Data science recruiters</td>\n",
       "      <td>8nl2ps</td>\n",
       "      <td>top</td>\n",
       "      <td>49.0</td>\n",
       "      <td>616.0</td>\n",
       "      <td>616.0</td>\n",
       "      <td>30184.0</td>\n",
       "    </tr>\n",
       "    <tr>\n",
       "      <th>2</th>\n",
       "      <td>NaN</td>\n",
       "      <td>Data Scientist: \\'dādə ˈsīən(t)əst\\ (n.)</td>\n",
       "      <td>8hxnk9</td>\n",
       "      <td>top</td>\n",
       "      <td>46.0</td>\n",
       "      <td>583.0</td>\n",
       "      <td>583.0</td>\n",
       "      <td>26818.0</td>\n",
       "    </tr>\n",
       "    <tr>\n",
       "      <th>3</th>\n",
       "      <td>NaN</td>\n",
       "      <td>newbies be like</td>\n",
       "      <td>80rhvh</td>\n",
       "      <td>top</td>\n",
       "      <td>145.0</td>\n",
       "      <td>509.0</td>\n",
       "      <td>509.0</td>\n",
       "      <td>73805.0</td>\n",
       "    </tr>\n",
       "    <tr>\n",
       "      <th>4</th>\n",
       "      <td>NaN</td>\n",
       "      <td>Google Introduces New Search Engine for Findin...</td>\n",
       "      <td>9dcltp</td>\n",
       "      <td>top</td>\n",
       "      <td>16.0</td>\n",
       "      <td>470.0</td>\n",
       "      <td>470.0</td>\n",
       "      <td>7520.0</td>\n",
       "    </tr>\n",
       "  </tbody>\n",
       "</table>\n",
       "</div>"
      ],
      "text/plain": [
       "                                            selftext  \\\n",
       "0  TL;DR: learned a buncha shit in 20 months with...   \n",
       "1                                                NaN   \n",
       "2                                                NaN   \n",
       "3                                                NaN   \n",
       "4                                                NaN   \n",
       "\n",
       "                                               title      id sorted_by  \\\n",
       "0  How I went from no coding or machine learning ...  713hnw       top   \n",
       "1                            Data science recruiters  8nl2ps       top   \n",
       "2           Data Scientist: \\'dādə ˈsīən(t)əst\\ (n.)  8hxnk9       top   \n",
       "3                                    newbies be like  80rhvh       top   \n",
       "4  Google Introduces New Search Engine for Findin...  9dcltp       top   \n",
       "\n",
       "   num_comments  score    ups  comments_score  \n",
       "0         110.0  627.0  627.0         68970.0  \n",
       "1          49.0  616.0  616.0         30184.0  \n",
       "2          46.0  583.0  583.0         26818.0  \n",
       "3         145.0  509.0  509.0         73805.0  \n",
       "4          16.0  470.0  470.0          7520.0  "
      ]
     },
     "execution_count": 14,
     "metadata": {},
     "output_type": "execute_result"
    }
   ],
   "source": [
    "ds_df.head()"
   ]
  },
  {
   "cell_type": "markdown",
   "metadata": {},
   "source": [
    "## Creating Targets"
   ]
  },
  {
   "cell_type": "code",
   "execution_count": 15,
   "metadata": {},
   "outputs": [],
   "source": [
    "# Set the statistics subreddit to be positive when classifying subreddits.\n",
    "s_df['subreddit_classifier'] = 1\n",
    "ds_df['subreddit_classifier'] = 0"
   ]
  },
  {
   "cell_type": "code",
   "execution_count": 16,
   "metadata": {},
   "outputs": [],
   "source": [
    "s_df['selftext'].fillna('', inplace=True)\n",
    "s_df['title_body'] = s_df['title'] + s_df['selftext']\n",
    "\n",
    "s_df['good_score'] = 0\n",
    "s_df.loc[s_df['score'] > 43, 'good_score'] = 1\n",
    "\n",
    "s_df['good_comments'] = 0\n",
    "s_df.loc[s_df['num_comments'] > 12, 'good_comments'] = 1\n",
    "\n",
    "s_df['good_com_score'] = 0\n",
    "s_df.loc[s_df['comments_score'] > 580, 'good_com_score'] = 1"
   ]
  },
  {
   "cell_type": "code",
   "execution_count": 17,
   "metadata": {},
   "outputs": [],
   "source": [
    "ds_df['selftext'].fillna('', inplace=True)\n",
    "ds_df['title_body'] = ds_df['title'] + ds_df['selftext']\n",
    "\n",
    "ds_df['good_score'] = 0\n",
    "ds_df.loc[ds_df['score'] > 54, 'good_score'] = 1\n",
    "\n",
    "ds_df['good_comments'] = 0\n",
    "ds_df.loc[ds_df['num_comments'] > 14, 'good_comments'] = 1\n",
    "\n",
    "ds_df['good_com_score'] = 0\n",
    "ds_df.loc[ds_df['comments_score'] > 819, 'good_com_score'] = 1"
   ]
  },
  {
   "cell_type": "markdown",
   "metadata": {},
   "source": [
    "## Combining Data"
   ]
  },
  {
   "cell_type": "code",
   "execution_count": 18,
   "metadata": {},
   "outputs": [],
   "source": [
    "all_data = pd.concat([s_df, ds_df], sort = False)"
   ]
  },
  {
   "cell_type": "code",
   "execution_count": 19,
   "metadata": {},
   "outputs": [
    {
     "data": {
      "text/html": [
       "<div>\n",
       "<style scoped>\n",
       "    .dataframe tbody tr th:only-of-type {\n",
       "        vertical-align: middle;\n",
       "    }\n",
       "\n",
       "    .dataframe tbody tr th {\n",
       "        vertical-align: top;\n",
       "    }\n",
       "\n",
       "    .dataframe thead th {\n",
       "        text-align: right;\n",
       "    }\n",
       "</style>\n",
       "<table border=\"1\" class=\"dataframe\">\n",
       "  <thead>\n",
       "    <tr style=\"text-align: right;\">\n",
       "      <th></th>\n",
       "      <th>num_comments</th>\n",
       "      <th>score</th>\n",
       "      <th>ups</th>\n",
       "      <th>comments_score</th>\n",
       "      <th>subreddit_classifier</th>\n",
       "      <th>good_score</th>\n",
       "      <th>good_comments</th>\n",
       "      <th>good_com_score</th>\n",
       "    </tr>\n",
       "  </thead>\n",
       "  <tbody>\n",
       "    <tr>\n",
       "      <th>count</th>\n",
       "      <td>1994.000000</td>\n",
       "      <td>1994.000000</td>\n",
       "      <td>1994.000000</td>\n",
       "      <td>1994.000000</td>\n",
       "      <td>1994.000000</td>\n",
       "      <td>1994.000000</td>\n",
       "      <td>1994.000000</td>\n",
       "      <td>1994.000000</td>\n",
       "    </tr>\n",
       "    <tr>\n",
       "      <th>mean</th>\n",
       "      <td>20.780341</td>\n",
       "      <td>65.164995</td>\n",
       "      <td>65.164995</td>\n",
       "      <td>1669.342026</td>\n",
       "      <td>0.500000</td>\n",
       "      <td>0.495486</td>\n",
       "      <td>0.496489</td>\n",
       "      <td>0.499498</td>\n",
       "    </tr>\n",
       "    <tr>\n",
       "      <th>std</th>\n",
       "      <td>24.051310</td>\n",
       "      <td>54.548232</td>\n",
       "      <td>54.548232</td>\n",
       "      <td>3829.440291</td>\n",
       "      <td>0.500125</td>\n",
       "      <td>0.500105</td>\n",
       "      <td>0.500113</td>\n",
       "      <td>0.500125</td>\n",
       "    </tr>\n",
       "    <tr>\n",
       "      <th>min</th>\n",
       "      <td>0.000000</td>\n",
       "      <td>26.000000</td>\n",
       "      <td>26.000000</td>\n",
       "      <td>0.000000</td>\n",
       "      <td>0.000000</td>\n",
       "      <td>0.000000</td>\n",
       "      <td>0.000000</td>\n",
       "      <td>0.000000</td>\n",
       "    </tr>\n",
       "    <tr>\n",
       "      <th>25%</th>\n",
       "      <td>6.000000</td>\n",
       "      <td>36.000000</td>\n",
       "      <td>36.000000</td>\n",
       "      <td>256.000000</td>\n",
       "      <td>0.000000</td>\n",
       "      <td>0.000000</td>\n",
       "      <td>0.000000</td>\n",
       "      <td>0.000000</td>\n",
       "    </tr>\n",
       "    <tr>\n",
       "      <th>50%</th>\n",
       "      <td>13.000000</td>\n",
       "      <td>49.000000</td>\n",
       "      <td>49.000000</td>\n",
       "      <td>687.000000</td>\n",
       "      <td>0.500000</td>\n",
       "      <td>0.000000</td>\n",
       "      <td>0.000000</td>\n",
       "      <td>0.000000</td>\n",
       "    </tr>\n",
       "    <tr>\n",
       "      <th>75%</th>\n",
       "      <td>27.000000</td>\n",
       "      <td>71.000000</td>\n",
       "      <td>71.000000</td>\n",
       "      <td>1656.000000</td>\n",
       "      <td>1.000000</td>\n",
       "      <td>1.000000</td>\n",
       "      <td>1.000000</td>\n",
       "      <td>1.000000</td>\n",
       "    </tr>\n",
       "    <tr>\n",
       "      <th>max</th>\n",
       "      <td>230.000000</td>\n",
       "      <td>627.000000</td>\n",
       "      <td>627.000000</td>\n",
       "      <td>73805.000000</td>\n",
       "      <td>1.000000</td>\n",
       "      <td>1.000000</td>\n",
       "      <td>1.000000</td>\n",
       "      <td>1.000000</td>\n",
       "    </tr>\n",
       "  </tbody>\n",
       "</table>\n",
       "</div>"
      ],
      "text/plain": [
       "       num_comments        score          ups  comments_score  \\\n",
       "count   1994.000000  1994.000000  1994.000000     1994.000000   \n",
       "mean      20.780341    65.164995    65.164995     1669.342026   \n",
       "std       24.051310    54.548232    54.548232     3829.440291   \n",
       "min        0.000000    26.000000    26.000000        0.000000   \n",
       "25%        6.000000    36.000000    36.000000      256.000000   \n",
       "50%       13.000000    49.000000    49.000000      687.000000   \n",
       "75%       27.000000    71.000000    71.000000     1656.000000   \n",
       "max      230.000000   627.000000   627.000000    73805.000000   \n",
       "\n",
       "       subreddit_classifier   good_score  good_comments  good_com_score  \n",
       "count           1994.000000  1994.000000    1994.000000     1994.000000  \n",
       "mean               0.500000     0.495486       0.496489        0.499498  \n",
       "std                0.500125     0.500105       0.500113        0.500125  \n",
       "min                0.000000     0.000000       0.000000        0.000000  \n",
       "25%                0.000000     0.000000       0.000000        0.000000  \n",
       "50%                0.500000     0.000000       0.000000        0.000000  \n",
       "75%                1.000000     1.000000       1.000000        1.000000  \n",
       "max                1.000000     1.000000       1.000000        1.000000  "
      ]
     },
     "execution_count": 19,
     "metadata": {},
     "output_type": "execute_result"
    }
   ],
   "source": [
    "all_data.describe()"
   ]
  },
  {
   "cell_type": "code",
   "execution_count": 20,
   "metadata": {
    "scrolled": true
   },
   "outputs": [
    {
     "data": {
      "text/html": [
       "<div>\n",
       "<style scoped>\n",
       "    .dataframe tbody tr th:only-of-type {\n",
       "        vertical-align: middle;\n",
       "    }\n",
       "\n",
       "    .dataframe tbody tr th {\n",
       "        vertical-align: top;\n",
       "    }\n",
       "\n",
       "    .dataframe thead th {\n",
       "        text-align: right;\n",
       "    }\n",
       "</style>\n",
       "<table border=\"1\" class=\"dataframe\">\n",
       "  <thead>\n",
       "    <tr style=\"text-align: right;\">\n",
       "      <th></th>\n",
       "      <th>selftext</th>\n",
       "      <th>title</th>\n",
       "      <th>id</th>\n",
       "      <th>sorted_by</th>\n",
       "      <th>num_comments</th>\n",
       "      <th>score</th>\n",
       "      <th>ups</th>\n",
       "      <th>comments_score</th>\n",
       "      <th>subreddit_classifier</th>\n",
       "      <th>title_body</th>\n",
       "      <th>good_score</th>\n",
       "      <th>good_comments</th>\n",
       "      <th>good_com_score</th>\n",
       "    </tr>\n",
       "  </thead>\n",
       "  <tbody>\n",
       "    <tr>\n",
       "      <th>0</th>\n",
       "      <td></td>\n",
       "      <td>The trump problem</td>\n",
       "      <td>7h23he</td>\n",
       "      <td>top</td>\n",
       "      <td>34.0</td>\n",
       "      <td>471.0</td>\n",
       "      <td>471.0</td>\n",
       "      <td>16014.0</td>\n",
       "      <td>1</td>\n",
       "      <td>The trump problem</td>\n",
       "      <td>1</td>\n",
       "      <td>1</td>\n",
       "      <td>1</td>\n",
       "    </tr>\n",
       "    <tr>\n",
       "      <th>1</th>\n",
       "      <td></td>\n",
       "      <td>Bing results. Where stats and fashion meet.</td>\n",
       "      <td>7dopht</td>\n",
       "      <td>top</td>\n",
       "      <td>4.0</td>\n",
       "      <td>303.0</td>\n",
       "      <td>303.0</td>\n",
       "      <td>1212.0</td>\n",
       "      <td>1</td>\n",
       "      <td>Bing results. Where stats and fashion meet.</td>\n",
       "      <td>1</td>\n",
       "      <td>0</td>\n",
       "      <td>1</td>\n",
       "    </tr>\n",
       "    <tr>\n",
       "      <th>2</th>\n",
       "      <td></td>\n",
       "      <td>RIP Hans Rosling - a tribute to the legend</td>\n",
       "      <td>5smcqw</td>\n",
       "      <td>top</td>\n",
       "      <td>15.0</td>\n",
       "      <td>292.0</td>\n",
       "      <td>292.0</td>\n",
       "      <td>4380.0</td>\n",
       "      <td>1</td>\n",
       "      <td>RIP Hans Rosling - a tribute to the legend</td>\n",
       "      <td>1</td>\n",
       "      <td>1</td>\n",
       "      <td>1</td>\n",
       "    </tr>\n",
       "    <tr>\n",
       "      <th>3</th>\n",
       "      <td></td>\n",
       "      <td>The scariest Halloween monster of them all!</td>\n",
       "      <td>7aqv39</td>\n",
       "      <td>top</td>\n",
       "      <td>29.0</td>\n",
       "      <td>276.0</td>\n",
       "      <td>276.0</td>\n",
       "      <td>8004.0</td>\n",
       "      <td>1</td>\n",
       "      <td>The scariest Halloween monster of them all!</td>\n",
       "      <td>1</td>\n",
       "      <td>1</td>\n",
       "      <td>1</td>\n",
       "    </tr>\n",
       "    <tr>\n",
       "      <th>4</th>\n",
       "      <td></td>\n",
       "      <td>Statisticians Found One Thing They Can Agree O...</td>\n",
       "      <td>49dc8t</td>\n",
       "      <td>top</td>\n",
       "      <td>87.0</td>\n",
       "      <td>259.0</td>\n",
       "      <td>259.0</td>\n",
       "      <td>22533.0</td>\n",
       "      <td>1</td>\n",
       "      <td>Statisticians Found One Thing They Can Agree O...</td>\n",
       "      <td>1</td>\n",
       "      <td>1</td>\n",
       "      <td>1</td>\n",
       "    </tr>\n",
       "  </tbody>\n",
       "</table>\n",
       "</div>"
      ],
      "text/plain": [
       "  selftext                                              title      id  \\\n",
       "0                                           The trump problem  7h23he   \n",
       "1                 Bing results. Where stats and fashion meet.  7dopht   \n",
       "2                  RIP Hans Rosling - a tribute to the legend  5smcqw   \n",
       "3                 The scariest Halloween monster of them all!  7aqv39   \n",
       "4           Statisticians Found One Thing They Can Agree O...  49dc8t   \n",
       "\n",
       "  sorted_by  num_comments  score    ups  comments_score  subreddit_classifier  \\\n",
       "0       top          34.0  471.0  471.0         16014.0                     1   \n",
       "1       top           4.0  303.0  303.0          1212.0                     1   \n",
       "2       top          15.0  292.0  292.0          4380.0                     1   \n",
       "3       top          29.0  276.0  276.0          8004.0                     1   \n",
       "4       top          87.0  259.0  259.0         22533.0                     1   \n",
       "\n",
       "                                          title_body  good_score  \\\n",
       "0                                  The trump problem           1   \n",
       "1        Bing results. Where stats and fashion meet.           1   \n",
       "2         RIP Hans Rosling - a tribute to the legend           1   \n",
       "3        The scariest Halloween monster of them all!           1   \n",
       "4  Statisticians Found One Thing They Can Agree O...           1   \n",
       "\n",
       "   good_comments  good_com_score  \n",
       "0              1               1  \n",
       "1              0               1  \n",
       "2              1               1  \n",
       "3              1               1  \n",
       "4              1               1  "
      ]
     },
     "execution_count": 20,
     "metadata": {},
     "output_type": "execute_result"
    }
   ],
   "source": [
    "all_data.head()"
   ]
  },
  {
   "cell_type": "code",
   "execution_count": 21,
   "metadata": {},
   "outputs": [
    {
     "name": "stdout",
     "output_type": "stream",
     "text": [
      "<class 'pandas.core.frame.DataFrame'>\n",
      "Int64Index: 1994 entries, 0 to 996\n",
      "Data columns (total 13 columns):\n",
      "selftext                1994 non-null object\n",
      "title                   1994 non-null object\n",
      "id                      1994 non-null object\n",
      "sorted_by               1994 non-null object\n",
      "num_comments            1994 non-null float64\n",
      "score                   1994 non-null float64\n",
      "ups                     1994 non-null float64\n",
      "comments_score          1994 non-null float64\n",
      "subreddit_classifier    1994 non-null int64\n",
      "title_body              1994 non-null object\n",
      "good_score              1994 non-null int64\n",
      "good_comments           1994 non-null int64\n",
      "good_com_score          1994 non-null int64\n",
      "dtypes: float64(4), int64(4), object(5)\n",
      "memory usage: 218.1+ KB\n"
     ]
    }
   ],
   "source": [
    "all_data.info()"
   ]
  },
  {
   "cell_type": "code",
   "execution_count": 113,
   "metadata": {},
   "outputs": [
    {
     "name": "stderr",
     "output_type": "stream",
     "text": [
      "/Applications/anaconda3/lib/python3.6/site-packages/matplotlib/axes/_axes.py:6462: UserWarning: The 'normed' kwarg is deprecated, and has been replaced by the 'density' kwarg.\n",
      "  warnings.warn(\"The 'normed' kwarg is deprecated, and has been \"\n"
     ]
    },
    {
     "data": {
      "text/plain": [
       "<matplotlib.axes._subplots.AxesSubplot at 0x1a3ddabac8>"
      ]
     },
     "execution_count": 113,
     "metadata": {},
     "output_type": "execute_result"
    },
    {
     "data": {
      "image/png": "[encoded data removed]",
      "text/plain": [
       "<Figure size 432x288 with 1 Axes>"
      ]
     },
     "metadata": {},
     "output_type": "display_data"
    }
   ],
   "source": [
    "sns.distplot(all_data['score'])"
   ]
  },
  {
   "cell_type": "code",
   "execution_count": 111,
   "metadata": {},
   "outputs": [
    {
     "data": {
      "text/plain": [
       "55"
      ]
     },
     "execution_count": 111,
     "metadata": {},
     "output_type": "execute_result"
    }
   ],
   "source": [
    "all_data[all_data['score'] > 200].shape[0]"
   ]
  },
  {
   "cell_type": "code",
   "execution_count": 123,
   "metadata": {},
   "outputs": [
    {
     "name": "stderr",
     "output_type": "stream",
     "text": [
      "/Applications/anaconda3/lib/python3.6/site-packages/matplotlib/axes/_axes.py:6462: UserWarning: The 'normed' kwarg is deprecated, and has been replaced by the 'density' kwarg.\n",
      "  warnings.warn(\"The 'normed' kwarg is deprecated, and has been \"\n"
     ]
    },
    {
     "data": {
      "text/plain": [
       "<matplotlib.axes._subplots.AxesSubplot at 0x1a13ded160>"
      ]
     },
     "execution_count": 123,
     "metadata": {},
     "output_type": "execute_result"
    },
    {
     "data": {
      "image/png": "[encoded data removed]",
      "text/plain": [
       "<Figure size 432x288 with 1 Axes>"
      ]
     },
     "metadata": {},
     "output_type": "display_data"
    }
   ],
   "source": [
    "sns.distplot(all_data['comments_score'])"
   ]
  },
  {
   "cell_type": "code",
   "execution_count": 124,
   "metadata": {},
   "outputs": [
    {
     "data": {
      "text/plain": [
       "(51, 13)"
      ]
     },
     "execution_count": 124,
     "metadata": {},
     "output_type": "execute_result"
    }
   ],
   "source": [
    "all_data[all_data['comments_score'] > 10000].shape"
   ]
  },
  {
   "cell_type": "markdown",
   "metadata": {},
   "source": [
    "## Baseline"
   ]
  },
  {
   "cell_type": "code",
   "execution_count": 22,
   "metadata": {},
   "outputs": [
    {
     "data": {
      "text/plain": [
       "0.5"
      ]
     },
     "execution_count": 22,
     "metadata": {},
     "output_type": "execute_result"
    }
   ],
   "source": [
    "all_data['subreddit_classifier'].mean()"
   ]
  },
  {
   "cell_type": "markdown",
   "metadata": {},
   "source": [
    "## Count Vectorizer"
   ]
  },
  {
   "cell_type": "code",
   "execution_count": 23,
   "metadata": {},
   "outputs": [],
   "source": [
    "X = all_data['title']\n",
    "y = all_data['subreddit_classifier']"
   ]
  },
  {
   "cell_type": "code",
   "execution_count": 24,
   "metadata": {},
   "outputs": [],
   "source": [
    "cvec = CountVectorizer(stop_words='english')\n",
    "data = cvec.fit_transform(X)\n",
    "cvec_df = pd.DataFrame(data.toarray(), columns=cvec.get_feature_names())"
   ]
  },
  {
   "cell_type": "code",
   "execution_count": 25,
   "metadata": {},
   "outputs": [],
   "source": [
    "cvec_X = cvec_df\n",
    "X_train, X_test, y_train, y_test = train_test_split(cvec_X, y, random_state=42, stratify=y)"
   ]
  },
  {
   "cell_type": "code",
   "execution_count": 26,
   "metadata": {},
   "outputs": [
    {
     "name": "stdout",
     "output_type": "stream",
     "text": [
      "0.5003344481605351 0.49899799599198397\n"
     ]
    }
   ],
   "source": [
    "print(y_train.mean(), y_test.mean())"
   ]
  },
  {
   "cell_type": "markdown",
   "metadata": {},
   "source": [
    "## Count Vectorization with 1000 Max Features"
   ]
  },
  {
   "cell_type": "code",
   "execution_count": 27,
   "metadata": {},
   "outputs": [],
   "source": [
    "adj_cvec = CountVectorizer(stop_words='english', max_features=1000)\n",
    "adj_data = adj_cvec.fit_transform(X)\n",
    "adj_cvec_df = pd.DataFrame(adj_data.toarray(), columns=adj_cvec.get_feature_names())"
   ]
  },
  {
   "cell_type": "code",
   "execution_count": 28,
   "metadata": {},
   "outputs": [],
   "source": [
    "adj_X = adj_cvec_df\n",
    "adj_X_train, adj_X_test, adj_y_train, adj_y_test = train_test_split(adj_X, y, random_state=42, stratify=y)"
   ]
  },
  {
   "cell_type": "code",
   "execution_count": 29,
   "metadata": {},
   "outputs": [
    {
     "name": "stdout",
     "output_type": "stream",
     "text": [
      "0.5003344481605351 0.49899799599198397\n"
     ]
    }
   ],
   "source": [
    "print(adj_y_train.mean(), adj_y_test.mean())"
   ]
  },
  {
   "cell_type": "markdown",
   "metadata": {},
   "source": [
    "## Count Vectorization Using Bigrams"
   ]
  },
  {
   "cell_type": "code",
   "execution_count": 30,
   "metadata": {},
   "outputs": [],
   "source": [
    "ng_cvec = CountVectorizer(stop_words='english', ngram_range=(2, 2), max_features=1000)\n",
    "ng_data = ng_cvec.fit_transform(X)\n",
    "ng_cvec_df = pd.DataFrame(ng_data.toarray(), columns=ng_cvec.get_feature_names())"
   ]
  },
  {
   "cell_type": "code",
   "execution_count": 31,
   "metadata": {},
   "outputs": [],
   "source": [
    "ng_X = ng_cvec_df\n",
    "ng_X_train, ng_X_test, ng_y_train, ng_y_test = train_test_split(ng_X, y, random_state=42, stratify=y)"
   ]
  },
  {
   "cell_type": "code",
   "execution_count": 32,
   "metadata": {},
   "outputs": [
    {
     "name": "stdout",
     "output_type": "stream",
     "text": [
      "0.5003344481605351 0.49899799599198397\n"
     ]
    }
   ],
   "source": [
    "print(ng_y_train.mean(), ng_y_test.mean())"
   ]
  },
  {
   "cell_type": "markdown",
   "metadata": {},
   "source": [
    "## Random Forest Using First Count Vectorization"
   ]
  },
  {
   "cell_type": "code",
   "execution_count": 33,
   "metadata": {},
   "outputs": [
    {
     "data": {
      "text/plain": [
       "RandomForestClassifier(bootstrap=True, class_weight=None, criterion='gini',\n",
       "            max_depth=None, max_features='auto', max_leaf_nodes=None,\n",
       "            min_impurity_decrease=0.0, min_impurity_split=None,\n",
       "            min_samples_leaf=1, min_samples_split=2,\n",
       "            min_weight_fraction_leaf=0.0, n_estimators=100, n_jobs=1,\n",
       "            oob_score=False, random_state=None, verbose=0,\n",
       "            warm_start=False)"
      ]
     },
     "execution_count": 33,
     "metadata": {},
     "output_type": "execute_result"
    }
   ],
   "source": [
    "randy = RandomForestClassifier(n_estimators=100)\n",
    "randy.fit(X_train, y_train)"
   ]
  },
  {
   "cell_type": "code",
   "execution_count": 34,
   "metadata": {},
   "outputs": [
    {
     "data": {
      "text/plain": [
       "0.8156312625250501"
      ]
     },
     "execution_count": 34,
     "metadata": {},
     "output_type": "execute_result"
    }
   ],
   "source": [
    "randy.score(X_test, y_test)"
   ]
  },
  {
   "cell_type": "markdown",
   "metadata": {},
   "source": [
    "## Random Forest Using Max Features Count Vectorization"
   ]
  },
  {
   "cell_type": "code",
   "execution_count": 35,
   "metadata": {},
   "outputs": [
    {
     "data": {
      "text/plain": [
       "RandomForestClassifier(bootstrap=True, class_weight=None, criterion='gini',\n",
       "            max_depth=None, max_features='auto', max_leaf_nodes=None,\n",
       "            min_impurity_decrease=0.0, min_impurity_split=None,\n",
       "            min_samples_leaf=1, min_samples_split=2,\n",
       "            min_weight_fraction_leaf=0.0, n_estimators=100, n_jobs=1,\n",
       "            oob_score=False, random_state=None, verbose=0,\n",
       "            warm_start=False)"
      ]
     },
     "execution_count": 35,
     "metadata": {},
     "output_type": "execute_result"
    }
   ],
   "source": [
    "adj_randy = RandomForestClassifier(n_estimators=100)\n",
    "adj_randy.fit(adj_X_train, adj_y_train)"
   ]
  },
  {
   "cell_type": "code",
   "execution_count": 36,
   "metadata": {},
   "outputs": [
    {
     "data": {
      "text/plain": [
       "0.8296593186372746"
      ]
     },
     "execution_count": 36,
     "metadata": {},
     "output_type": "execute_result"
    }
   ],
   "source": [
    "adj_randy.score(adj_X_test, adj_y_test)"
   ]
  },
  {
   "cell_type": "markdown",
   "metadata": {},
   "source": [
    "## Random Forest Using Bigrams Count Vectorization"
   ]
  },
  {
   "cell_type": "code",
   "execution_count": 37,
   "metadata": {},
   "outputs": [
    {
     "data": {
      "text/plain": [
       "RandomForestClassifier(bootstrap=True, class_weight=None, criterion='gini',\n",
       "            max_depth=None, max_features='auto', max_leaf_nodes=None,\n",
       "            min_impurity_decrease=0.0, min_impurity_split=None,\n",
       "            min_samples_leaf=1, min_samples_split=2,\n",
       "            min_weight_fraction_leaf=0.0, n_estimators=100, n_jobs=1,\n",
       "            oob_score=False, random_state=None, verbose=0,\n",
       "            warm_start=False)"
      ]
     },
     "execution_count": 37,
     "metadata": {},
     "output_type": "execute_result"
    }
   ],
   "source": [
    "ng_randy = RandomForestClassifier(n_estimators=100)\n",
    "ng_randy.fit(ng_X_train, ng_y_train)"
   ]
  },
  {
   "cell_type": "code",
   "execution_count": 38,
   "metadata": {},
   "outputs": [
    {
     "data": {
      "text/plain": [
       "0.7434869739478958"
      ]
     },
     "execution_count": 38,
     "metadata": {},
     "output_type": "execute_result"
    }
   ],
   "source": [
    "ng_randy.score(ng_X_test, ng_y_test)"
   ]
  },
  {
   "cell_type": "markdown",
   "metadata": {},
   "source": [
    "## Logistic Regression Using First Count Vectorization"
   ]
  },
  {
   "cell_type": "code",
   "execution_count": 39,
   "metadata": {},
   "outputs": [
    {
     "data": {
      "text/plain": [
       "0.8276553106212425"
      ]
     },
     "execution_count": 39,
     "metadata": {},
     "output_type": "execute_result"
    }
   ],
   "source": [
    "logreg = LogisticRegression()\n",
    "logreg.fit(X_train, y_train)\n",
    "logreg.score(X_test, y_test)"
   ]
  },
  {
   "cell_type": "markdown",
   "metadata": {},
   "source": [
    "## Logistic Regression Using Max Features Count Vectorization"
   ]
  },
  {
   "cell_type": "code",
   "execution_count": 40,
   "metadata": {},
   "outputs": [
    {
     "data": {
      "text/plain": [
       "0.8216432865731463"
      ]
     },
     "execution_count": 40,
     "metadata": {},
     "output_type": "execute_result"
    }
   ],
   "source": [
    "logreg = LogisticRegression()\n",
    "logreg.fit(adj_X_train, adj_y_train)\n",
    "logreg.score(adj_X_test, adj_y_test)"
   ]
  },
  {
   "cell_type": "markdown",
   "metadata": {},
   "source": [
    "## Logistic Regression Using Bigrams Count Vectorization"
   ]
  },
  {
   "cell_type": "code",
   "execution_count": 41,
   "metadata": {},
   "outputs": [
    {
     "data": {
      "text/plain": [
       "0.7555110220440882"
      ]
     },
     "execution_count": 41,
     "metadata": {},
     "output_type": "execute_result"
    }
   ],
   "source": [
    "logreg = LogisticRegression()\n",
    "logreg.fit(ng_X_train, ng_y_train)\n",
    "logreg.score(ng_X_test, ng_y_test)"
   ]
  },
  {
   "cell_type": "markdown",
   "metadata": {},
   "source": [
    "## TF-IDF"
   ]
  },
  {
   "cell_type": "code",
   "execution_count": 42,
   "metadata": {},
   "outputs": [],
   "source": [
    "X = all_data['title']\n",
    "y = all_data['subreddit_classifier']"
   ]
  },
  {
   "cell_type": "code",
   "execution_count": 43,
   "metadata": {},
   "outputs": [],
   "source": [
    "tvec = TfidfVectorizer(stop_words='english')\n",
    "tvec_data = tvec.fit_transform(X)\n",
    "tvec_df = pd.DataFrame(tvec_data.toarray(), columns=tvec.get_feature_names())"
   ]
  },
  {
   "cell_type": "code",
   "execution_count": 44,
   "metadata": {},
   "outputs": [],
   "source": [
    "tvec_X = tvec_df\n",
    "X_train_tvec, X_test_tvec, y_train_tvec, y_test_tvec = train_test_split(tvec_X, y, random_state=42, stratify=y) "
   ]
  },
  {
   "cell_type": "markdown",
   "metadata": {},
   "source": [
    "## TF-IDF with 1000 Max Features"
   ]
  },
  {
   "cell_type": "code",
   "execution_count": 45,
   "metadata": {},
   "outputs": [],
   "source": [
    "adj_tvec = TfidfVectorizer(stop_words='english', max_features=1000)\n",
    "adj_tvec_data = adj_tvec.fit_transform(X)\n",
    "adj_tvec_df = pd.DataFrame(adj_tvec_data.toarray(), columns=adj_tvec.get_feature_names())"
   ]
  },
  {
   "cell_type": "code",
   "execution_count": 46,
   "metadata": {},
   "outputs": [],
   "source": [
    "adj_tvec_X = adj_tvec_df\n",
    "adj_X_train_tvec, adj_X_test_tvec, adj_y_train_tvec, adj_y_test_tvec = train_test_split(adj_tvec_X, y, random_state=42, stratify=y) "
   ]
  },
  {
   "cell_type": "markdown",
   "metadata": {},
   "source": [
    "## TF-IDF Using Bigrams"
   ]
  },
  {
   "cell_type": "code",
   "execution_count": 47,
   "metadata": {},
   "outputs": [],
   "source": [
    "bg_tvec = TfidfVectorizer(stop_words='english', max_features=1000, ngram_range=(2,2))\n",
    "bg_tvec_data = bg_tvec.fit_transform(X)\n",
    "bg_tvec_df = pd.DataFrame(bg_tvec_data.toarray(), columns=bg_tvec.get_feature_names())"
   ]
  },
  {
   "cell_type": "code",
   "execution_count": 48,
   "metadata": {},
   "outputs": [],
   "source": [
    "bg_tvec_X = bg_tvec_df\n",
    "bg_X_train_tvec, bg_X_test_tvec, bg_y_train_tvec, bg_y_test_tvec = train_test_split(bg_tvec_X, y, random_state=42, stratify=y) "
   ]
  },
  {
   "cell_type": "markdown",
   "metadata": {},
   "source": [
    "## Random Forest Using TF-IDF"
   ]
  },
  {
   "cell_type": "code",
   "execution_count": 49,
   "metadata": {},
   "outputs": [
    {
     "data": {
      "text/plain": [
       "RandomForestClassifier(bootstrap=True, class_weight=None, criterion='gini',\n",
       "            max_depth=None, max_features='auto', max_leaf_nodes=None,\n",
       "            min_impurity_decrease=0.0, min_impurity_split=None,\n",
       "            min_samples_leaf=1, min_samples_split=2,\n",
       "            min_weight_fraction_leaf=0.0, n_estimators=100, n_jobs=1,\n",
       "            oob_score=False, random_state=None, verbose=0,\n",
       "            warm_start=False)"
      ]
     },
     "execution_count": 49,
     "metadata": {},
     "output_type": "execute_result"
    }
   ],
   "source": [
    "tvec_randy = RandomForestClassifier(n_estimators=100)\n",
    "tvec_randy.fit(X_train_tvec, y_train_tvec)"
   ]
  },
  {
   "cell_type": "code",
   "execution_count": 50,
   "metadata": {},
   "outputs": [
    {
     "data": {
      "text/plain": [
       "0.8196392785571143"
      ]
     },
     "execution_count": 50,
     "metadata": {},
     "output_type": "execute_result"
    }
   ],
   "source": [
    "tvec_randy.score(X_test_tvec, y_test_tvec)"
   ]
  },
  {
   "cell_type": "markdown",
   "metadata": {},
   "source": [
    "## Random Forest Using Max Features TF-IDF"
   ]
  },
  {
   "cell_type": "code",
   "execution_count": 51,
   "metadata": {},
   "outputs": [
    {
     "data": {
      "text/plain": [
       "RandomForestClassifier(bootstrap=True, class_weight=None, criterion='gini',\n",
       "            max_depth=None, max_features='auto', max_leaf_nodes=None,\n",
       "            min_impurity_decrease=0.0, min_impurity_split=None,\n",
       "            min_samples_leaf=1, min_samples_split=2,\n",
       "            min_weight_fraction_leaf=0.0, n_estimators=100, n_jobs=1,\n",
       "            oob_score=False, random_state=None, verbose=0,\n",
       "            warm_start=False)"
      ]
     },
     "execution_count": 51,
     "metadata": {},
     "output_type": "execute_result"
    }
   ],
   "source": [
    "adj_randy = RandomForestClassifier(n_estimators=100)\n",
    "adj_randy.fit(adj_X_train_tvec, adj_y_train_tvec)"
   ]
  },
  {
   "cell_type": "code",
   "execution_count": 52,
   "metadata": {},
   "outputs": [
    {
     "data": {
      "text/plain": [
       "0.8416833667334669"
      ]
     },
     "execution_count": 52,
     "metadata": {},
     "output_type": "execute_result"
    }
   ],
   "source": [
    "adj_randy.score(adj_X_test_tvec, adj_y_test_tvec)"
   ]
  },
  {
   "cell_type": "markdown",
   "metadata": {},
   "source": [
    "## Random Forest Using Bigrams TF-IDF"
   ]
  },
  {
   "cell_type": "code",
   "execution_count": 53,
   "metadata": {},
   "outputs": [
    {
     "data": {
      "text/plain": [
       "RandomForestClassifier(bootstrap=True, class_weight=None, criterion='gini',\n",
       "            max_depth=None, max_features='auto', max_leaf_nodes=None,\n",
       "            min_impurity_decrease=0.0, min_impurity_split=None,\n",
       "            min_samples_leaf=1, min_samples_split=2,\n",
       "            min_weight_fraction_leaf=0.0, n_estimators=100, n_jobs=1,\n",
       "            oob_score=False, random_state=None, verbose=0,\n",
       "            warm_start=False)"
      ]
     },
     "execution_count": 53,
     "metadata": {},
     "output_type": "execute_result"
    }
   ],
   "source": [
    "bg_randy = RandomForestClassifier(n_estimators=100)\n",
    "bg_randy.fit(bg_X_train_tvec, bg_y_train_tvec)"
   ]
  },
  {
   "cell_type": "code",
   "execution_count": 54,
   "metadata": {},
   "outputs": [
    {
     "data": {
      "text/plain": [
       "0.6332665330661322"
      ]
     },
     "execution_count": 54,
     "metadata": {},
     "output_type": "execute_result"
    }
   ],
   "source": [
    "ng_randy.score(bg_X_test_tvec, bg_y_test_tvec)"
   ]
  },
  {
   "cell_type": "markdown",
   "metadata": {},
   "source": [
    "## Logistic Regression Using TF-IDF"
   ]
  },
  {
   "cell_type": "code",
   "execution_count": 55,
   "metadata": {},
   "outputs": [
    {
     "data": {
      "text/plain": [
       "0.8236472945891784"
      ]
     },
     "execution_count": 55,
     "metadata": {},
     "output_type": "execute_result"
    }
   ],
   "source": [
    "logreg = LogisticRegression()\n",
    "logreg.fit(X_train_tvec, y_train_tvec)\n",
    "logreg.score(X_test_tvec, y_test_tvec)"
   ]
  },
  {
   "cell_type": "markdown",
   "metadata": {},
   "source": [
    "## Logistic Regression Using Max Features TF-IDF"
   ]
  },
  {
   "cell_type": "code",
   "execution_count": 56,
   "metadata": {},
   "outputs": [
    {
     "data": {
      "text/plain": [
       "0.8296593186372746"
      ]
     },
     "execution_count": 56,
     "metadata": {},
     "output_type": "execute_result"
    }
   ],
   "source": [
    "logreg = LogisticRegression()\n",
    "logreg.fit(adj_X_train_tvec, adj_y_train_tvec)\n",
    "logreg.score(adj_X_test_tvec, adj_y_test_tvec)"
   ]
  },
  {
   "cell_type": "markdown",
   "metadata": {},
   "source": [
    "## Logistic Regression Using Bigrams TF-IDF"
   ]
  },
  {
   "cell_type": "code",
   "execution_count": 57,
   "metadata": {},
   "outputs": [
    {
     "data": {
      "text/plain": [
       "0.7414829659318637"
      ]
     },
     "execution_count": 57,
     "metadata": {},
     "output_type": "execute_result"
    }
   ],
   "source": [
    "logreg = LogisticRegression()\n",
    "logreg.fit(bg_X_train_tvec, bg_y_train_tvec)\n",
    "logreg.score(bg_X_test_tvec, bg_y_test_tvec)"
   ]
  },
  {
   "cell_type": "markdown",
   "metadata": {},
   "source": [
    "## Looking at Important Features"
   ]
  },
  {
   "cell_type": "code",
   "execution_count": 58,
   "metadata": {},
   "outputs": [],
   "source": [
    "important_features = {k: v for k, v in zip(cvec_df.columns, randy.feature_importances_)}\n",
    "\n",
    "df = pd.DataFrame(important_features, index=range(1))\n",
    "df = df.T\n",
    "df.columns = ['importance']\n",
    "important = df.sort_values('importance', ascending=False).head(10)"
   ]
  },
  {
   "cell_type": "code",
   "execution_count": 59,
   "metadata": {},
   "outputs": [
    {
     "data": {
      "text/plain": [
       "<matplotlib.axes._subplots.AxesSubplot at 0x1a13973c50>"
      ]
     },
     "execution_count": 59,
     "metadata": {},
     "output_type": "execute_result"
    },
    {
     "data": {
      "image/png": "[encoded data removed]",
      "text/plain": [
       "<Figure size 432x288 with 1 Axes>"
      ]
     },
     "metadata": {},
     "output_type": "display_data"
    }
   ],
   "source": [
    "important[::-1].plot(kind='barh')"
   ]
  },
  {
   "cell_type": "code",
   "execution_count": 60,
   "metadata": {},
   "outputs": [],
   "source": [
    "important_features = {k: v for k, v in zip(adj_cvec_df.columns, adj_randy.feature_importances_)}\n",
    "\n",
    "df = pd.DataFrame(important_features, index=range(1))\n",
    "df = df.T\n",
    "df.columns = ['importance']\n",
    "important = df.sort_values('importance', ascending=False).head(10)"
   ]
  },
  {
   "cell_type": "code",
   "execution_count": 61,
   "metadata": {},
   "outputs": [
    {
     "data": {
      "text/plain": [
       "<matplotlib.axes._subplots.AxesSubplot at 0x1a3770db38>"
      ]
     },
     "execution_count": 61,
     "metadata": {},
     "output_type": "execute_result"
    },
    {
     "data": {
      "image/png": "[encoded data removed]",
      "text/plain": [
       "<Figure size 432x288 with 1 Axes>"
      ]
     },
     "metadata": {},
     "output_type": "display_data"
    }
   ],
   "source": [
    "important[::-1].plot(kind='barh')"
   ]
  },
  {
   "cell_type": "code",
   "execution_count": 62,
   "metadata": {},
   "outputs": [],
   "source": [
    "important_features = {k: v for k, v in zip(ng_cvec_df.columns, ng_randy.feature_importances_)}\n",
    "\n",
    "df = pd.DataFrame(important_features, index=range(1))\n",
    "df = df.T\n",
    "df.columns = ['importance']\n",
    "important = df.sort_values('importance', ascending=False).head(10)"
   ]
  },
  {
   "cell_type": "code",
   "execution_count": 63,
   "metadata": {},
   "outputs": [
    {
     "data": {
      "text/plain": [
       "<matplotlib.axes._subplots.AxesSubplot at 0x1a33a02198>"
      ]
     },
     "execution_count": 63,
     "metadata": {},
     "output_type": "execute_result"
    },
    {
     "data": {
      "image/png": "[encoded data removed]",
      "text/plain": [
       "<Figure size 432x288 with 1 Axes>"
      ]
     },
     "metadata": {},
     "output_type": "display_data"
    }
   ],
   "source": [
    "important[::-1].plot(kind='barh')"
   ]
  },
  {
   "cell_type": "markdown",
   "metadata": {},
   "source": [
    "## Predicting Successful Posts for r/datascience"
   ]
  },
  {
   "cell_type": "code",
   "execution_count": 64,
   "metadata": {},
   "outputs": [],
   "source": [
    "X = ds_df['title']\n",
    "y = ds_df['good_com_score']"
   ]
  },
  {
   "cell_type": "code",
   "execution_count": 65,
   "metadata": {},
   "outputs": [],
   "source": [
    "from sklearn.feature_extraction import stop_words\n",
    " \n",
    "# print(stop_words.ENGLISH_STOP_WORDS)\n",
    "custom_stopwords = list(stop_words.ENGLISH_STOP_WORDS)\n",
    "custom_stopwords.extend(['data', 'science'])"
   ]
  },
  {
   "cell_type": "markdown",
   "metadata": {},
   "source": [
    "## Count Vectorization"
   ]
  },
  {
   "cell_type": "code",
   "execution_count": 66,
   "metadata": {},
   "outputs": [],
   "source": [
    "good_cvec = CountVectorizer(stop_words=custom_stopwords, max_features=1000)\n",
    "good_data = good_cvec.fit_transform(X)\n",
    "good_df = pd.DataFrame(good_data.toarray(), columns=good_cvec.get_feature_names())"
   ]
  },
  {
   "cell_type": "code",
   "execution_count": 67,
   "metadata": {},
   "outputs": [],
   "source": [
    "good_X = good_df\n",
    "X_train, X_test, y_train, y_test = train_test_split(good_X, y, random_state=42, stratify=y)"
   ]
  },
  {
   "cell_type": "code",
   "execution_count": 68,
   "metadata": {},
   "outputs": [
    {
     "data": {
      "text/plain": [
       "0.568"
      ]
     },
     "execution_count": 68,
     "metadata": {},
     "output_type": "execute_result"
    }
   ],
   "source": [
    "good_randy = RandomForestClassifier()\n",
    "good_randy.fit(X_train, y_train)\n",
    "good_randy.score(X_test, y_test)"
   ]
  },
  {
   "cell_type": "code",
   "execution_count": 69,
   "metadata": {},
   "outputs": [],
   "source": [
    "important_features = {k: v for k, v in zip(good_df.columns, good_randy.feature_importances_)}\n",
    "\n",
    "df = pd.DataFrame(important_features, index=range(1))\n",
    "df = df.T\n",
    "df.columns = ['importance']\n",
    "important = df.sort_values('importance', ascending=False).head(10)"
   ]
  },
  {
   "cell_type": "code",
   "execution_count": 70,
   "metadata": {},
   "outputs": [
    {
     "data": {
      "text/plain": [
       "<matplotlib.axes._subplots.AxesSubplot at 0x1a378defd0>"
      ]
     },
     "execution_count": 70,
     "metadata": {},
     "output_type": "execute_result"
    },
    {
     "data": {
      "image/png": "[encoded data removed]",
      "text/plain": [
       "<Figure size 432x288 with 1 Axes>"
      ]
     },
     "metadata": {},
     "output_type": "display_data"
    }
   ],
   "source": [
    "important[::-1].plot(kind='barh')"
   ]
  },
  {
   "cell_type": "code",
   "execution_count": 80,
   "metadata": {},
   "outputs": [
    {
     "data": {
      "text/plain": [
       "0.58"
      ]
     },
     "execution_count": 80,
     "metadata": {},
     "output_type": "execute_result"
    }
   ],
   "source": [
    "logreg = LogisticRegression()\n",
    "logreg.fit(X_train, y_train)\n",
    "logreg.score(X_test, y_test)"
   ]
  },
  {
   "cell_type": "code",
   "execution_count": 102,
   "metadata": {},
   "outputs": [
    {
     "data": {
      "text/html": [
       "<div>\n",
       "<style scoped>\n",
       "    .dataframe tbody tr th:only-of-type {\n",
       "        vertical-align: middle;\n",
       "    }\n",
       "\n",
       "    .dataframe tbody tr th {\n",
       "        vertical-align: top;\n",
       "    }\n",
       "\n",
       "    .dataframe thead th {\n",
       "        text-align: right;\n",
       "    }\n",
       "</style>\n",
       "<table border=\"1\" class=\"dataframe\">\n",
       "  <thead>\n",
       "    <tr style=\"text-align: right;\">\n",
       "      <th></th>\n",
       "      <th>000</th>\n",
       "      <th>10</th>\n",
       "      <th>100</th>\n",
       "      <th>101</th>\n",
       "      <th>12</th>\n",
       "      <th>20</th>\n",
       "      <th>2016</th>\n",
       "      <th>2017</th>\n",
       "      <th>2018</th>\n",
       "      <th>25</th>\n",
       "      <th>...</th>\n",
       "      <th>www</th>\n",
       "      <th>xgboost</th>\n",
       "      <th>xkcd</th>\n",
       "      <th>xpost</th>\n",
       "      <th>year</th>\n",
       "      <th>years</th>\n",
       "      <th>york</th>\n",
       "      <th>young</th>\n",
       "      <th>youtube</th>\n",
       "      <th>zoo</th>\n",
       "    </tr>\n",
       "  </thead>\n",
       "  <tbody>\n",
       "    <tr>\n",
       "      <th>coefs</th>\n",
       "      <td>0.678089</td>\n",
       "      <td>0.07769</td>\n",
       "      <td>0.254502</td>\n",
       "      <td>-0.193126</td>\n",
       "      <td>0.267104</td>\n",
       "      <td>0.085612</td>\n",
       "      <td>-0.640124</td>\n",
       "      <td>-0.133292</td>\n",
       "      <td>0.561213</td>\n",
       "      <td>-0.091608</td>\n",
       "      <td>...</td>\n",
       "      <td>-0.282733</td>\n",
       "      <td>-0.303592</td>\n",
       "      <td>0.717371</td>\n",
       "      <td>0.112254</td>\n",
       "      <td>-0.023665</td>\n",
       "      <td>-0.082688</td>\n",
       "      <td>-0.321219</td>\n",
       "      <td>0.0</td>\n",
       "      <td>-0.413742</td>\n",
       "      <td>0.308973</td>\n",
       "    </tr>\n",
       "  </tbody>\n",
       "</table>\n",
       "<p>1 rows × 1000 columns</p>\n",
       "</div>"
      ],
      "text/plain": [
       "            000       10       100       101        12        20      2016  \\\n",
       "coefs  0.678089  0.07769  0.254502 -0.193126  0.267104  0.085612 -0.640124   \n",
       "\n",
       "           2017      2018        25    ...          www   xgboost      xkcd  \\\n",
       "coefs -0.133292  0.561213 -0.091608    ...    -0.282733 -0.303592  0.717371   \n",
       "\n",
       "          xpost      year     years      york  young   youtube       zoo  \n",
       "coefs  0.112254 -0.023665 -0.082688 -0.321219    0.0 -0.413742  0.308973  \n",
       "\n",
       "[1 rows x 1000 columns]"
      ]
     },
     "execution_count": 102,
     "metadata": {},
     "output_type": "execute_result"
    }
   ],
   "source": [
    "coef_df = pd.DataFrame(logreg.coef_, columns=good_df.columns, index=['coefs'])\n",
    "coef_df.head()"
   ]
  },
  {
   "cell_type": "code",
   "execution_count": 108,
   "metadata": {},
   "outputs": [
    {
     "data": {
      "text/plain": [
       "<matplotlib.axes._subplots.AxesSubplot at 0x1a37916518>"
      ]
     },
     "execution_count": 108,
     "metadata": {},
     "output_type": "execute_result"
    },
    {
     "data": {
      "image/png": "[encoded data removed]",
      "text/plain": [
       "<Figure size 432x288 with 1 Axes>"
      ]
     },
     "metadata": {},
     "output_type": "display_data"
    }
   ],
   "source": [
    "sorted_coefs = coef_df.T.sort_values('coefs', ascending=False)\n",
    "sorted_coefs.head()[::-1].plot(kind='barh')"
   ]
  },
  {
   "cell_type": "code",
   "execution_count": 109,
   "metadata": {},
   "outputs": [
    {
     "data": {
      "text/plain": [
       "<matplotlib.axes._subplots.AxesSubplot at 0x1a3d6f5588>"
      ]
     },
     "execution_count": 109,
     "metadata": {},
     "output_type": "execute_result"
    },
    {
     "data": {
      "image/png": "[encoded data removed]",
      "text/plain": [
       "<Figure size 432x288 with 1 Axes>"
      ]
     },
     "metadata": {},
     "output_type": "display_data"
    }
   ],
   "source": [
    "sorted_coefs.tail().plot(kind='barh')"
   ]
  },
  {
   "cell_type": "markdown",
   "metadata": {},
   "source": [
    "## TF-IDF"
   ]
  },
  {
   "cell_type": "code",
   "execution_count": 114,
   "metadata": {},
   "outputs": [],
   "source": [
    "good_tvec = TfidfVectorizer(stop_words=custom_stopwords, max_features=1000)\n",
    "good_data = good_tvec.fit_transform(X)\n",
    "good_df = pd.DataFrame(good_data.toarray(), columns=good_tvec.get_feature_names())"
   ]
  },
  {
   "cell_type": "code",
   "execution_count": 115,
   "metadata": {},
   "outputs": [],
   "source": [
    "good_X = good_df\n",
    "X_train, X_test, y_train, y_test = train_test_split(good_X, y, random_state=42, stratify=y)"
   ]
  },
  {
   "cell_type": "code",
   "execution_count": 116,
   "metadata": {},
   "outputs": [
    {
     "data": {
      "text/plain": [
       "0.592"
      ]
     },
     "execution_count": 116,
     "metadata": {},
     "output_type": "execute_result"
    }
   ],
   "source": [
    "good_randy = RandomForestClassifier()\n",
    "good_randy.fit(X_train, y_train)\n",
    "good_randy.score(X_test, y_test)"
   ]
  },
  {
   "cell_type": "code",
   "execution_count": 117,
   "metadata": {},
   "outputs": [],
   "source": [
    "important_features = {k: v for k, v in zip(good_df.columns, good_randy.feature_importances_)}\n",
    "\n",
    "df = pd.DataFrame(important_features, index=range(1))\n",
    "df = df.T\n",
    "df.columns = ['importance']\n",
    "important = df.sort_values('importance', ascending=False).head(10)"
   ]
  },
  {
   "cell_type": "code",
   "execution_count": 118,
   "metadata": {},
   "outputs": [
    {
     "data": {
      "text/plain": [
       "<matplotlib.axes._subplots.AxesSubplot at 0x1a378b70f0>"
      ]
     },
     "execution_count": 118,
     "metadata": {},
     "output_type": "execute_result"
    },
    {
     "data": {
      "image/png": "[encoded data removed]",
      "text/plain": [
       "<Figure size 432x288 with 1 Axes>"
      ]
     },
     "metadata": {},
     "output_type": "display_data"
    }
   ],
   "source": [
    "important[::-1].plot(kind='barh')"
   ]
  },
  {
   "cell_type": "code",
   "execution_count": 119,
   "metadata": {},
   "outputs": [
    {
     "data": {
      "text/plain": [
       "0.596"
      ]
     },
     "execution_count": 119,
     "metadata": {},
     "output_type": "execute_result"
    }
   ],
   "source": [
    "logreg = LogisticRegression()\n",
    "logreg.fit(X_train, y_train)\n",
    "logreg.score(X_test, y_test)"
   ]
  },
  {
   "cell_type": "code",
   "execution_count": 120,
   "metadata": {},
   "outputs": [
    {
     "data": {
      "text/html": [
       "<div>\n",
       "<style scoped>\n",
       "    .dataframe tbody tr th:only-of-type {\n",
       "        vertical-align: middle;\n",
       "    }\n",
       "\n",
       "    .dataframe tbody tr th {\n",
       "        vertical-align: top;\n",
       "    }\n",
       "\n",
       "    .dataframe thead th {\n",
       "        text-align: right;\n",
       "    }\n",
       "</style>\n",
       "<table border=\"1\" class=\"dataframe\">\n",
       "  <thead>\n",
       "    <tr style=\"text-align: right;\">\n",
       "      <th></th>\n",
       "      <th>000</th>\n",
       "      <th>10</th>\n",
       "      <th>100</th>\n",
       "      <th>101</th>\n",
       "      <th>12</th>\n",
       "      <th>20</th>\n",
       "      <th>2016</th>\n",
       "      <th>2017</th>\n",
       "      <th>2018</th>\n",
       "      <th>25</th>\n",
       "      <th>...</th>\n",
       "      <th>www</th>\n",
       "      <th>xgboost</th>\n",
       "      <th>xkcd</th>\n",
       "      <th>xpost</th>\n",
       "      <th>year</th>\n",
       "      <th>years</th>\n",
       "      <th>york</th>\n",
       "      <th>young</th>\n",
       "      <th>youtube</th>\n",
       "      <th>zoo</th>\n",
       "    </tr>\n",
       "  </thead>\n",
       "  <tbody>\n",
       "    <tr>\n",
       "      <th>coefs</th>\n",
       "      <td>0.601017</td>\n",
       "      <td>-0.079206</td>\n",
       "      <td>0.23575</td>\n",
       "      <td>-0.198939</td>\n",
       "      <td>0.08447</td>\n",
       "      <td>0.111174</td>\n",
       "      <td>-0.460439</td>\n",
       "      <td>-0.069416</td>\n",
       "      <td>0.475736</td>\n",
       "      <td>-0.070081</td>\n",
       "      <td>...</td>\n",
       "      <td>-0.246532</td>\n",
       "      <td>-0.284465</td>\n",
       "      <td>0.637581</td>\n",
       "      <td>0.111207</td>\n",
       "      <td>0.144956</td>\n",
       "      <td>0.013647</td>\n",
       "      <td>-0.200906</td>\n",
       "      <td>0.0</td>\n",
       "      <td>-0.415481</td>\n",
       "      <td>0.160949</td>\n",
       "    </tr>\n",
       "  </tbody>\n",
       "</table>\n",
       "<p>1 rows × 1000 columns</p>\n",
       "</div>"
      ],
      "text/plain": [
       "            000        10      100       101       12        20      2016  \\\n",
       "coefs  0.601017 -0.079206  0.23575 -0.198939  0.08447  0.111174 -0.460439   \n",
       "\n",
       "           2017      2018        25    ...          www   xgboost      xkcd  \\\n",
       "coefs -0.069416  0.475736 -0.070081    ...    -0.246532 -0.284465  0.637581   \n",
       "\n",
       "          xpost      year     years      york  young   youtube       zoo  \n",
       "coefs  0.111207  0.144956  0.013647 -0.200906    0.0 -0.415481  0.160949  \n",
       "\n",
       "[1 rows x 1000 columns]"
      ]
     },
     "execution_count": 120,
     "metadata": {},
     "output_type": "execute_result"
    }
   ],
   "source": [
    "coef_df = pd.DataFrame(logreg.coef_, columns=good_df.columns, index=['coefs'])\n",
    "coef_df.head()"
   ]
  },
  {
   "cell_type": "code",
   "execution_count": 121,
   "metadata": {},
   "outputs": [
    {
     "data": {
      "text/plain": [
       "<matplotlib.axes._subplots.AxesSubplot at 0x1a13e19f60>"
      ]
     },
     "execution_count": 121,
     "metadata": {},
     "output_type": "execute_result"
    },
    {
     "data": {
      "image/png": "[encoded data removed]",
      "text/plain": [
       "<Figure size 432x288 with 1 Axes>"
      ]
     },
     "metadata": {},
     "output_type": "display_data"
    }
   ],
   "source": [
    "sorted_coefs = coef_df.T.sort_values('coefs', ascending=False)\n",
    "sorted_coefs.head()[::-1].plot(kind='barh')"
   ]
  },
  {
   "cell_type": "code",
   "execution_count": 122,
   "metadata": {},
   "outputs": [
    {
     "data": {
      "text/plain": [
       "<matplotlib.axes._subplots.AxesSubplot at 0x1a13e0ee80>"
      ]
     },
     "execution_count": 122,
     "metadata": {},
     "output_type": "execute_result"
    },
    {
     "data": {
      "image/png": "[encoded data removed]",
      "text/plain": [
       "<Figure size 432x288 with 1 Axes>"
      ]
     },
     "metadata": {},
     "output_type": "display_data"
    }
   ],
   "source": [
    "sorted_coefs.tail().plot(kind='barh')"
   ]
  },
  {
   "cell_type": "markdown",
   "metadata": {},
   "source": [
    "## Testing Models on New Posts"
   ]
  },
  {
   "cell_type": "markdown",
   "metadata": {},
   "source": [
    "The csv files titled \"new...posts.csv\" were collected with each subreddit sorted by new. We can apply our classification using this new information to see how well the random forest model performs when given new data."
   ]
  },
  {
   "cell_type": "code",
   "execution_count": 71,
   "metadata": {},
   "outputs": [],
   "source": [
    "new_stats_posts = pd.read_csv('new_statistics_posts.csv')\n",
    "new_ds_posts = pd.read_csv('new_datascience_posts.csv')\n",
    "\n",
    "new_stats_posts['target'] = 1\n",
    "new_ds_posts['target'] = 0"
   ]
  },
  {
   "cell_type": "code",
   "execution_count": 72,
   "metadata": {},
   "outputs": [],
   "source": [
    "new_df = pd.concat([new_stats_posts, new_ds_posts], sort=False)"
   ]
  },
  {
   "cell_type": "code",
   "execution_count": 73,
   "metadata": {},
   "outputs": [],
   "source": [
    "new_X = new_df['title']\n",
    "new_y = new_df['target']"
   ]
  },
  {
   "cell_type": "code",
   "execution_count": 74,
   "metadata": {},
   "outputs": [],
   "source": [
    "new_data = cvec.transform(new_X)\n",
    "new_cvec = pd.DataFrame(new_data.toarray(), columns=cvec.get_feature_names())\n",
    "new_cvec_X = new_cvec"
   ]
  },
  {
   "cell_type": "code",
   "execution_count": 75,
   "metadata": {},
   "outputs": [
    {
     "data": {
      "text/plain": [
       "0.764859228362878"
      ]
     },
     "execution_count": 75,
     "metadata": {},
     "output_type": "execute_result"
    }
   ],
   "source": [
    "randy.score(new_cvec_X, new_y)"
   ]
  },
  {
   "cell_type": "code",
   "execution_count": 76,
   "metadata": {},
   "outputs": [],
   "source": [
    "adj_new_data = adj_cvec.transform(new_X)\n",
    "adj_new_cvec = pd.DataFrame(adj_new_data.toarray(), columns=adj_cvec.get_feature_names())\n",
    "adj_new_X = adj_new_cvec"
   ]
  },
  {
   "cell_type": "code",
   "execution_count": 77,
   "metadata": {},
   "outputs": [
    {
     "data": {
      "text/plain": [
       "0.7502606882168926"
      ]
     },
     "execution_count": 77,
     "metadata": {},
     "output_type": "execute_result"
    }
   ],
   "source": [
    "adj_randy.score(adj_new_X, new_y)"
   ]
  },
  {
   "cell_type": "code",
   "execution_count": 78,
   "metadata": {},
   "outputs": [],
   "source": [
    "ng_new_data = ng_cvec.transform(new_X)\n",
    "ng_new_cvec = pd.DataFrame(ng_new_data.toarray(), columns=ng_cvec.get_feature_names())\n",
    "ng_new_X = ng_new_cvec"
   ]
  },
  {
   "cell_type": "code",
   "execution_count": 79,
   "metadata": {},
   "outputs": [
    {
     "data": {
      "text/plain": [
       "0.6903023983315955"
      ]
     },
     "execution_count": 79,
     "metadata": {},
     "output_type": "execute_result"
    }
   ],
   "source": [
    "ng_randy.score(ng_new_X, new_y)"
   ]
  }
 ],
 "metadata": {
  "kernelspec": {
   "display_name": "Python 3",
   "language": "python",
   "name": "python3"
  },
  "language_info": {
   "codemirror_mode": {
    "name": "ipython",
    "version": 3
   },
   "file_extension": ".py",
   "mimetype": "text/x-python",
   "name": "python",
   "nbconvert_exporter": "python",
   "pygments_lexer": "ipython3",
   "version": "3.6.5"
  }
 },
 "nbformat": 4,
 "nbformat_minor": 2
}
